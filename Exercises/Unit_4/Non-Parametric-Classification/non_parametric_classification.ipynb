{
 "cells": [
  {
   "cell_type": "code",
   "execution_count": 1,
   "metadata": {},
   "outputs": [],
   "source": [
    "from typing import Union\n",
    "\n",
    "import matplotlib.pyplot as plt\n",
    "import numpy as np\n",
    "import pandas as pd\n",
    "import seaborn as sns\n",
    "import sklearn\n",
    "from sklearn.compose import ColumnTransformer\n",
    "from sklearn.inspection import DecisionBoundaryDisplay\n",
    "from sklearn.metrics import (\n",
    "    ConfusionMatrixDisplay,\n",
    "    accuracy_score,\n",
    "    classification_report,\n",
    "    confusion_matrix,\n",
    ")\n",
    "from sklearn.model_selection import train_test_split\n",
    "from sklearn.preprocessing import StandardScaler"
   ]
  },
  {
   "cell_type": "markdown",
   "metadata": {},
   "source": [
    "## Load Iris Dataset"
   ]
  },
  {
   "cell_type": "code",
   "execution_count": 2,
   "metadata": {},
   "outputs": [],
   "source": [
    "from sklearn.datasets import load_iris\n",
    "\n",
    "iris = load_iris()\n",
    "df = pd.DataFrame(iris[\"data\"], columns=iris[\"feature_names\"])\n",
    "df[\"y\"] = iris[\"target\"]\n",
    "df[\"y\"] = df[\"y\"].map(dict(enumerate(iris.target_names)))\n",
    "\n",
    "# Keep only rows where y is `Virginica` or `Versicolor`\n",
    "df = df[df[\"y\"].isin([\"virginica\", \"versicolor\"])]\n",
    "\n",
    "# Keep only `sepal length (cm)` and `sepal width (cm)` columns\n",
    "\n",
    "columns_to_keep = [\"sepal length (cm)\", \"sepal width (cm)\"]\n",
    "df = df.loc[:, columns_to_keep + [\"y\"]]"
   ]
  },
  {
   "cell_type": "code",
   "execution_count": 3,
   "metadata": {},
   "outputs": [
    {
     "name": "stdout",
     "output_type": "stream",
     "text": [
      "Number of instances: 100\n"
     ]
    }
   ],
   "source": [
    "print(f\"Number of instances: {len(df)}\")"
   ]
  },
  {
   "cell_type": "markdown",
   "metadata": {},
   "source": [
    "## Split Train/Test"
   ]
  },
  {
   "cell_type": "code",
   "execution_count": 4,
   "metadata": {},
   "outputs": [],
   "source": [
    "X_train, X_test, y_train, y_test = train_test_split(\n",
    "    df.drop(\"y\", axis=1), df[\"y\"], test_size=0.3, random_state=42, stratify=df[\"y\"]\n",
    ")"
   ]
  },
  {
   "cell_type": "markdown",
   "metadata": {},
   "source": [
    "## Preprocessing (Scaling)"
   ]
  },
  {
   "cell_type": "markdown",
   "metadata": {},
   "source": [
    "Este paso realmente no es estrictamente necesario dado que las features que componen el conjunto de datos están en la misma escala (cm)"
   ]
  },
  {
   "cell_type": "code",
   "execution_count": 5,
   "metadata": {},
   "outputs": [],
   "source": [
    "# Define the columns to be transformed\n",
    "continuous_columns = X_train.select_dtypes(include=[\"float64\"]).columns\n",
    "\n",
    "# Crear el ColumnTransformer\n",
    "preprocessor = ColumnTransformer(\n",
    "    transformers=[\n",
    "        (\"num\", StandardScaler(), continuous_columns),\n",
    "    ]\n",
    ")\n",
    "\n",
    "# Aplicar las transformaciones\n",
    "X_train = preprocessor.fit_transform(X_train)\n",
    "X_test = preprocessor.transform(X_test)\n",
    "\n",
    "X_train = pd.DataFrame(X_train, columns=continuous_columns)\n",
    "X_test = pd.DataFrame(X_test, columns=continuous_columns)"
   ]
  },
  {
   "cell_type": "markdown",
   "metadata": {},
   "source": [
    "---"
   ]
  },
  {
   "cell_type": "markdown",
   "metadata": {},
   "source": [
    "## LDA/QDA Training"
   ]
  },
  {
   "cell_type": "code",
   "execution_count": 6,
   "metadata": {},
   "outputs": [],
   "source": [
    "from sklearn.discriminant_analysis import (\n",
    "    LinearDiscriminantAnalysis,\n",
    "    QuadraticDiscriminantAnalysis,\n",
    ")"
   ]
  },
  {
   "cell_type": "code",
   "execution_count": 17,
   "metadata": {},
   "outputs": [],
   "source": [
    "def plot_confusion_matrix(\n",
    "    y_true: Union[pd.Series, np.ndarray],\n",
    "    y_pred: Union[pd.Series, np.ndarray],\n",
    "):\n",
    "    cm = confusion_matrix(y_true, y_pred)\n",
    "    disp = ConfusionMatrixDisplay(\n",
    "        confusion_matrix=cm, display_labels=iris.target_names[1:]\n",
    "    )\n",
    "    disp.plot(cmap=\"Blues\")\n",
    "    plt.grid(False)\n",
    "    plt.gca().set_frame_on(False)\n",
    "    plt.show()\n",
    "\n",
    "\n",
    "def display_decision_boundary(\n",
    "    model: sklearn.base.BaseEstimator,\n",
    "    X: pd.DataFrame,\n",
    "    y: pd.Series,\n",
    "    xlabel: str,\n",
    "    ylabel: str,\n",
    "    ax=None,\n",
    "):\n",
    "    \"\"\"Display the decision boundary of a model.\n",
    "\n",
    "    Parameters\n",
    "    ----------\n",
    "    model : sklearn.base.BaseEstimator\n",
    "        Model to display the decision boundary of.\n",
    "    X : pd.DataFrame\n",
    "        Dataframe containing the features.\n",
    "    y : pd.Series\n",
    "        Series containing the target.\n",
    "    xlabel : str\n",
    "        Feature to display on the x-axis.\n",
    "    ylabel : str\n",
    "        Feature to display on the y-axis.\n",
    "    ax : matplotlib.axes, optional\n",
    "        The axes on which to plot. If None, a new figure will be created.\n",
    "    \"\"\"\n",
    "    # Use provided ax or create a new one\n",
    "    if ax is None:\n",
    "        fig, ax = plt.subplots(figsize=(8, 6))\n",
    "\n",
    "    # Plot the decision boundary\n",
    "    disp = DecisionBoundaryDisplay.from_estimator(\n",
    "        model,\n",
    "        X,\n",
    "        response_method=\"predict\",\n",
    "        xlabel=xlabel,\n",
    "        ylabel=ylabel,\n",
    "        alpha=0.5,\n",
    "        ax=ax,\n",
    "    )\n",
    "\n",
    "    # Add scatterplot\n",
    "    sns.scatterplot(\n",
    "        data=X,\n",
    "        x=xlabel,\n",
    "        y=ylabel,\n",
    "        hue=y_test.reset_index(drop=True), # Reset index to avoid misalignment\n",
    "        alpha=0.5,\n",
    "        ax=ax,\n",
    "    )\n",
    "\n",
    "    return disp\n"
   ]
  },
  {
   "cell_type": "code",
   "execution_count": 8,
   "metadata": {},
   "outputs": [],
   "source": [
    "# This dictionary is needed to build a comparative DataFrame between models\n",
    "models_accuracy_dict = {\n",
    "    \"Model\": [\"LDA\", \"QDA\"],\n",
    "    \"Accuracy\": [],\n",
    "}"
   ]
  },
  {
   "cell_type": "markdown",
   "metadata": {},
   "source": [
    "### LDA"
   ]
  },
  {
   "cell_type": "code",
   "execution_count": 9,
   "metadata": {},
   "outputs": [],
   "source": [
    "lda = LinearDiscriminantAnalysis()\n",
    "\n",
    "lda.fit(X_train, y_train)\n",
    "\n",
    "y_pred_lda = lda.predict(X_test)"
   ]
  },
  {
   "cell_type": "code",
   "execution_count": 10,
   "metadata": {},
   "outputs": [
    {
     "name": "stdout",
     "output_type": "stream",
     "text": [
      "              precision    recall  f1-score   support\n",
      "\n",
      "  versicolor       0.65      0.87      0.74        15\n",
      "   virginica       0.80      0.53      0.64        15\n",
      "\n",
      "    accuracy                           0.70        30\n",
      "   macro avg       0.73      0.70      0.69        30\n",
      "weighted avg       0.72      0.70      0.69        30\n",
      "\n"
     ]
    },
    {
     "data": {
      "image/png": "[encoded data removed]",
      "text/plain": [
       "<Figure size 640x480 with 2 Axes>"
      ]
     },
     "metadata": {},
     "output_type": "display_data"
    }
   ],
   "source": [
    "print(classification_report(y_test, y_pred_lda))\n",
    "plot_confusion_matrix(y_test, y_pred_lda)\n",
    "models_accuracy_dict[\"Accuracy\"].append(accuracy_score(y_test, y_pred_lda))"
   ]
  },
  {
   "cell_type": "markdown",
   "metadata": {},
   "source": [
    "---"
   ]
  },
  {
   "cell_type": "markdown",
   "metadata": {},
   "source": [
    "### QDA"
   ]
  },
  {
   "cell_type": "code",
   "execution_count": 11,
   "metadata": {},
   "outputs": [],
   "source": [
    "qda = QuadraticDiscriminantAnalysis()\n",
    "\n",
    "qda.fit(X_train, y_train)\n",
    "\n",
    "y_pred_qda = qda.predict(X_test)"
   ]
  },
  {
   "cell_type": "code",
   "execution_count": 12,
   "metadata": {},
   "outputs": [
    {
     "name": "stdout",
     "output_type": "stream",
     "text": [
      "              precision    recall  f1-score   support\n",
      "\n",
      "  versicolor       0.63      0.80      0.71        15\n",
      "   virginica       0.73      0.53      0.62        15\n",
      "\n",
      "    accuracy                           0.67        30\n",
      "   macro avg       0.68      0.67      0.66        30\n",
      "weighted avg       0.68      0.67      0.66        30\n",
      "\n"
     ]
    },
    {
     "data": {
      "image/png": "[encoded data removed]",
      "text/plain": [
       "<Figure size 640x480 with 2 Axes>"
      ]
     },
     "metadata": {},
     "output_type": "display_data"
    }
   ],
   "source": [
    "print(classification_report(y_test, y_pred_qda))\n",
    "plot_confusion_matrix(y_test, y_pred_lda)\n",
    "models_accuracy_dict[\"Accuracy\"].append(accuracy_score(y_test, y_pred_qda))"
   ]
  },
  {
   "cell_type": "markdown",
   "metadata": {},
   "source": [
    "---"
   ]
  },
  {
   "cell_type": "markdown",
   "metadata": {},
   "source": [
    "## Model Accuracy Comparision"
   ]
  },
  {
   "cell_type": "code",
   "execution_count": 13,
   "metadata": {},
   "outputs": [
    {
     "data": {
      "application/vnd.microsoft.datawrangler.viewer.v0+json": {
       "columns": [
        {
         "name": "index",
         "rawType": "int64",
         "type": "integer"
        },
        {
         "name": "Model",
         "rawType": "object",
         "type": "string"
        },
        {
         "name": "Accuracy",
         "rawType": "float64",
         "type": "float"
        }
       ],
       "conversionMethod": "pd.DataFrame",
       "ref": "439c823d-594f-4841-adf8-e6e1df8772cb",
       "rows": [
        [
         "0",
         "LDA",
         "0.7"
        ],
        [
         "1",
         "QDA",
         "0.6666666666666666"
        ]
       ],
       "shape": {
        "columns": 2,
        "rows": 2
       }
      },
      "text/html": [
       "<div>\n",
       "<style scoped>\n",
       "    .dataframe tbody tr th:only-of-type {\n",
       "        vertical-align: middle;\n",
       "    }\n",
       "\n",
       "    .dataframe tbody tr th {\n",
       "        vertical-align: top;\n",
       "    }\n",
       "\n",
       "    .dataframe thead th {\n",
       "        text-align: right;\n",
       "    }\n",
       "</style>\n",
       "<table border=\"1\" class=\"dataframe\">\n",
       "  <thead>\n",
       "    <tr style=\"text-align: right;\">\n",
       "      <th></th>\n",
       "      <th>Model</th>\n",
       "      <th>Accuracy</th>\n",
       "    </tr>\n",
       "  </thead>\n",
       "  <tbody>\n",
       "    <tr>\n",
       "      <th>0</th>\n",
       "      <td>LDA</td>\n",
       "      <td>0.700000</td>\n",
       "    </tr>\n",
       "    <tr>\n",
       "      <th>1</th>\n",
       "      <td>QDA</td>\n",
       "      <td>0.666667</td>\n",
       "    </tr>\n",
       "  </tbody>\n",
       "</table>\n",
       "</div>"
      ],
      "text/plain": [
       "  Model  Accuracy\n",
       "0   LDA  0.700000\n",
       "1   QDA  0.666667"
      ]
     },
     "execution_count": 13,
     "metadata": {},
     "output_type": "execute_result"
    }
   ],
   "source": [
    "pd.DataFrame(models_accuracy_dict)"
   ]
  },
  {
   "cell_type": "markdown",
   "metadata": {},
   "source": [
    "Cualquiera de las tres variaciones de **RDA** obtuvieron el mismo Accuracy. **RDA** ofrece un 4% más de Accuracy que **LDA** y un 9.5% más que **QDA**. **QDA** es el método con menor Accuracy"
   ]
  },
  {
   "cell_type": "markdown",
   "metadata": {},
   "source": [
    "## Display the Decision Boundary"
   ]
  },
  {
   "cell_type": "code",
   "execution_count": 20,
   "metadata": {},
   "outputs": [
    {
     "data": {
      "image/png": "[encoded data removed]",
      "text/plain": [
       "<Figure size 1000x500 with 2 Axes>"
      ]
     },
     "metadata": {},
     "output_type": "display_data"
    }
   ],
   "source": [
    "fig, axes = plt.subplots(1, 2, figsize=(10, 5))\n",
    "axes = axes.flatten()\n",
    "\n",
    "# Plot each model in a different subplot\n",
    "models = {\n",
    "    \"LDA\": lda,\n",
    "    \"QDA\": qda,\n",
    "}\n",
    "\n",
    "for i, (name, model) in enumerate(models.items()):\n",
    "    display_decision_boundary(\n",
    "        model,\n",
    "        X_train,\n",
    "        y_train,\n",
    "        \"sepal length (cm)\",\n",
    "        \"sepal width (cm)\",\n",
    "        ax=axes[i],\n",
    "    )\n",
    "    axes[i].set_title(f\"{name}\")\n",
    "\n",
    "# Remove unused subplot if necessary\n",
    "if len(models) < len(axes):\n",
    "    fig.delaxes(axes[-1])\n",
    "\n",
    "plt.tight_layout()\n",
    "plt.show()"
   ]
  }
 ],
 "metadata": {
  "kernelspec": {
   "display_name": "DataMining",
   "language": "python",
   "name": "python3"
  },
  "language_info": {
   "codemirror_mode": {
    "name": "ipython",
    "version": 3
   },
   "file_extension": ".py",
   "mimetype": "text/x-python",
   "name": "python",
   "nbconvert_exporter": "python",
   "pygments_lexer": "ipython3",
   "version": "3.12.7"
  }
 },
 "nbformat": 4,
 "nbformat_minor": 2
}
