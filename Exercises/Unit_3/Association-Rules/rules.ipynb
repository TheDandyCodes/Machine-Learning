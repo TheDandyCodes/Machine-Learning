{
 "cells": [
  {
   "cell_type": "code",
   "execution_count": 6,
   "metadata": {},
   "outputs": [],
   "source": [
    "import pandas as pd\n",
    "from mlxtend.preprocessing import TransactionEncoder\n",
    "from pathlib import Path\n",
    "import numpy as np\n",
    "# Load the dataset\n",
    "notebook_dir = Path().resolve()\n",
    "movilens = pd.read_csv( notebook_dir / 'movilens_dataset/movies.csv')\n",
    "\n",
    "# Transform the dataset\n",
    "movilens['genres'] = movilens['genres'].str.split('|')\n",
    "te = TransactionEncoder()\n",
    "te_ary = te.fit(movilens['genres']).transform(movilens['genres'])\n",
    "movilens = pd.DataFrame(te_ary, columns=te.columns_).set_index(movilens['title'])"
   ]
  },
  {
   "cell_type": "markdown",
   "metadata": {},
   "source": [
    "Calcular el soporte, confianza y lift de las siguientes reglas:  \n",
    "- `Romance -> Drama`\n",
    "- `Action, Adventure -> Thriller`\n",
    "- `Crime, Action -> Thriller` \n",
    "- `Crime -> Action, Thriller`\n",
    "- `Crime -> Children's`"
   ]
  },
  {
   "cell_type": "code",
   "execution_count": 18,
   "metadata": {},
   "outputs": [
    {
     "name": "stdout",
     "output_type": "stream",
     "text": [
      "Confidences\n",
      "Suppport (Romance -> Drama): 0.067854084603528\n",
      "Suppport (Action, Adventure -> Thriller): 0.004350059941770851\n",
      "Suppport (Crime, Action -> Thriller): 0.009624935776674087\n",
      "Suppport (Crime -> Children): 0.0007535536907004624\n",
      "\n",
      "Confidences\n",
      "Confidence (Romance -> Drama): 0.5731507377760632\n",
      "Confidence (Action, Adventure -> Thriller): 0.1814285714285714\n",
      "Confidence (Crime, Action -> Thriller): 0.4596510359869138\n",
      "Confidence (Crime -> Action, Thriller): 0.12084288990825687\n",
      "Confidence (Crime -> Children): 0.009461009174311927\n",
      "\n",
      "Lifts\n",
      "Lift (Romance -> Drama): 1.4688926808519822\n",
      "Lift (Action, Adventure -> Thriller): 1.3440261717475621\n",
      "Lift (Crime, Action -> Thriller): 3.4051032721740544\n",
      "Lift (Crime -> Action, Thriller): 3.713692811443747\n",
      "Lift (Crime -> Children): 0.18332798418851995\n"
     ]
    }
   ],
   "source": [
    "# Supports\n",
    "print(\"Confidences\")\n",
    "support_Ro_Dr = np.logical_and(movilens['Romance'], movilens['Drama']).mean()\n",
    "print(f\"Suppport (Romance -> Drama): {support_Ro_Dr}\")\n",
    "support_Ac_Ad_Th = np.logical_and(np.logical_and(movilens['Action'], movilens['Adventure']), movilens['Thriller']).mean()\n",
    "print(f\"Suppport (Action, Adventure -> Thriller): {support_Ac_Ad_Th}\")\n",
    "support_Cr_Ac_Th = np.logical_and(np.logical_and(movilens['Crime'], movilens['Action']), movilens['Thriller']).mean()\n",
    "print(f\"Suppport (Crime, Action -> Thriller): {support_Cr_Ac_Th}\")\n",
    "support_Cr_Ch = np.logical_and(movilens['Crime'], movilens['Children']).mean()\n",
    "print(f\"Suppport (Crime -> Children): {support_Cr_Ch}\")\n",
    "\n",
    "# Confidences\n",
    "print(\"\\nConfidences\")\n",
    "confidence_Ro_Dr = support_Ro_Dr / movilens['Romance'].mean()\n",
    "print(f\"Confidence (Romance -> Drama): {confidence_Ro_Dr}\")\n",
    "confidence_AcAd_Th = support_Ac_Ad_Th / np.logical_and(movilens['Action'], movilens['Adventure']).mean()\n",
    "print(f\"Confidence (Action, Adventure -> Thriller): {confidence_AcAd_Th}\")\n",
    "confidence_CrAc_Th = support_Cr_Ac_Th / np.logical_and(movilens['Crime'], movilens['Action']).mean()\n",
    "print(f\"Confidence (Crime, Action -> Thriller): {confidence_CrAc_Th}\")\n",
    "confidence_Cr_AcTh = support_Cr_Ac_Th / movilens['Crime'].mean()\n",
    "print(f\"Confidence (Crime -> Action, Thriller): {confidence_Cr_AcTh}\")\n",
    "confidence_Cr_Ch = support_Cr_Ch / movilens['Crime'].mean()\n",
    "print(f\"Confidence (Crime -> Children): {confidence_Cr_Ch}\")\n",
    "\n",
    "# Lifts\n",
    "print(\"\\nLifts\")\n",
    "lift_Ro_Dr = confidence_Ro_Dr / movilens['Drama'].mean()\n",
    "print(f\"Lift (Romance -> Drama): {lift_Ro_Dr}\")\n",
    "lift_AcAd_Th = confidence_AcAd_Th / movilens['Thriller'].mean()\n",
    "print(f\"Lift (Action, Adventure -> Thriller): {lift_AcAd_Th}\")\n",
    "lift_CrAc_Th = confidence_CrAc_Th / movilens['Thriller'].mean()\n",
    "print(f\"Lift (Crime, Action -> Thriller): {lift_CrAc_Th}\")\n",
    "lift_Cr_AcTh = confidence_Cr_AcTh / np.logical_and(movilens['Action'], movilens['Thriller']).mean()\n",
    "print(f\"Lift (Crime -> Action, Thriller): {lift_Cr_AcTh}\")\n",
    "lift_Cr_Ch = confidence_Cr_Ch / movilens['Children'].mean()\n",
    "print(f\"Lift (Crime -> Children): {lift_Cr_Ch}\")"
   ]
  },
  {
   "cell_type": "code",
   "execution_count": 51,
   "metadata": {},
   "outputs": [],
   "source": [
    "def get_support(itemset: list, onehot_dataset: pd.DataFrame) -> float:\n",
    "    logic_and_result = onehot_dataset[itemset[0]]\n",
    "    for item in itemset[1:]:\n",
    "        logic_and_result = np.logical_and(logic_and_result, onehot_dataset[item])\n",
    "    return logic_and_result.mean()"
   ]
  },
  {
   "cell_type": "code",
   "execution_count": 52,
   "metadata": {},
   "outputs": [],
   "source": [
    "\n",
    "\n",
    "def rule_metrics(antedecent: list, consequent: list, onehot_dataset: pd.DataFrame) -> dict[str, float | str]:\n",
    "    itemset = antedecent + consequent\n",
    "    support = get_support(itemset=itemset, onehot_dataset=onehot_dataset)\n",
    "    confidence = support / get_support(itemset=antedecent, onehot_dataset=onehot_dataset)\n",
    "    lift = confidence / get_support(itemset=consequent, onehot_dataset=onehot_dataset)\n",
    "    \n",
    "    metrics = {\n",
    "        'rule': f\"{antedecent} -> {consequent}\",\n",
    "        'support': support,\n",
    "        'confidence': confidence,\n",
    "        'lift': lift\n",
    "    }\n",
    "    return metrics"
   ]
  },
  {
   "cell_type": "code",
   "execution_count": 53,
   "metadata": {},
   "outputs": [
    {
     "data": {
      "text/plain": [
       "{'rule': \"['Romance', 'Thriller'] -> ['Drama']\",\n",
       " 'support': 0.003756350973340184,\n",
       " 'confidence': 0.5643224699828473,\n",
       " 'lift': 1.4462672577453601}"
      ]
     },
     "execution_count": 53,
     "metadata": {},
     "output_type": "execute_result"
    }
   ],
   "source": [
    "rule_metrics(['Romance', 'Thriller'], ['Drama'], movilens)"
   ]
  }
 ],
 "metadata": {
  "kernelspec": {
   "display_name": "DataMining",
   "language": "python",
   "name": "python3"
  },
  "language_info": {
   "codemirror_mode": {
    "name": "ipython",
    "version": 3
   },
   "file_extension": ".py",
   "mimetype": "text/x-python",
   "name": "python",
   "nbconvert_exporter": "python",
   "pygments_lexer": "ipython3",
   "version": "3.12.7"
  }
 },
 "nbformat": 4,
 "nbformat_minor": 2
}
