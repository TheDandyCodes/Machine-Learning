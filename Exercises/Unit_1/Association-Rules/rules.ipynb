{
 "cells": [
  {
   "cell_type": "code",
   "execution_count": 1,
   "metadata": {},
   "outputs": [],
   "source": [
    "import pandas as pd\n",
    "from mlxtend.preprocessing import TransactionEncoder\n",
    "from pathlib import Path\n",
    "import numpy as np\n",
    "from itertools import permutations, combinations\n",
    "import time\n",
    "import math\n",
    "from typing import Iterable\n",
    "\n",
    "# Load the dataset\n",
    "notebook_dir = Path().resolve()\n",
    "movilens = pd.read_csv( notebook_dir / 'movilens_dataset/movies.csv')\n",
    "\n",
    "# Transform the dataset\n",
    "movilens['genres'] = movilens['genres'].str.split('|')\n",
    "\n",
    "# Remove the '(no genres listed)' genre\n",
    "movilens = movilens[movilens['genres'].apply(lambda x: '(no genres listed)' not in x)]\n",
    "te = TransactionEncoder()\n",
    "te_ary = te.fit(movilens['genres']).transform(movilens['genres'])\n",
    "movilens = pd.DataFrame(te_ary, columns=te.columns_).set_index(movilens['title'])"
   ]
  },
  {
   "cell_type": "markdown",
   "metadata": {},
   "source": [
    "Calcular el soporte, confianza y lift de las siguientes reglas:  \n",
    "- `Romance -> Drama`\n",
    "- `Action, Adventure -> Thriller`\n",
    "- `Crime, Action -> Thriller` \n",
    "- `Crime -> Action, Thriller`\n",
    "- `Crime -> Children's`"
   ]
  },
  {
   "cell_type": "code",
   "execution_count": 2,
   "metadata": {},
   "outputs": [
    {
     "name": "stdout",
     "output_type": "stream",
     "text": [
      "Confidences\n",
      "Suppport (Romance -> Drama): 0.07382150177007639\n",
      "Suppport (Action, Adventure -> Thriller): 0.004732625302776225\n",
      "Suppport (Crime, Action -> Thriller): 0.010471399291969443\n",
      "Suppport (Crime -> Children): 0.0008198248555990311\n",
      "\n",
      "Confidences\n",
      "Confidence (Romance -> Drama): 0.5731507377760632\n",
      "Confidence (Action, Adventure -> Thriller): 0.1814285714285714\n",
      "Confidence (Crime, Action -> Thriller): 0.4596510359869138\n",
      "Confidence (Crime -> Action, Thriller): 0.12084288990825688\n",
      "Confidence (Crime -> Children): 0.009461009174311925\n",
      "\n",
      "Lifts\n",
      "Lift (Romance -> Drama): 1.3501536253010085\n",
      "Lift (Action, Adventure -> Thriller): 1.2353807953021347\n",
      "Lift (Crime, Action -> Thriller): 3.1298491628289344\n",
      "Lift (Crime -> Action, Thriller): 3.413493632303235\n",
      "Lift (Crime -> Children): 0.1685085273402614\n"
     ]
    }
   ],
   "source": [
    "# Supports\n",
    "print(\"Confidences\")\n",
    "support_Ro_Dr = np.logical_and(movilens['Romance'], movilens['Drama']).mean()\n",
    "print(f\"Suppport (Romance -> Drama): {support_Ro_Dr}\")\n",
    "support_Ac_Ad_Th = np.logical_and(np.logical_and(movilens['Action'], movilens['Adventure']), movilens['Thriller']).mean()\n",
    "print(f\"Suppport (Action, Adventure -> Thriller): {support_Ac_Ad_Th}\")\n",
    "support_Cr_Ac_Th = np.logical_and(np.logical_and(movilens['Crime'], movilens['Action']), movilens['Thriller']).mean()\n",
    "print(f\"Suppport (Crime, Action -> Thriller): {support_Cr_Ac_Th}\")\n",
    "support_Cr_Ch = np.logical_and(movilens['Crime'], movilens['Children']).mean()\n",
    "print(f\"Suppport (Crime -> Children): {support_Cr_Ch}\")\n",
    "\n",
    "# Confidences\n",
    "print(\"\\nConfidences\")\n",
    "confidence_Ro_Dr = support_Ro_Dr / movilens['Romance'].mean()\n",
    "print(f\"Confidence (Romance -> Drama): {confidence_Ro_Dr}\")\n",
    "confidence_AcAd_Th = support_Ac_Ad_Th / np.logical_and(movilens['Action'], movilens['Adventure']).mean()\n",
    "print(f\"Confidence (Action, Adventure -> Thriller): {confidence_AcAd_Th}\")\n",
    "confidence_CrAc_Th = support_Cr_Ac_Th / np.logical_and(movilens['Crime'], movilens['Action']).mean()\n",
    "print(f\"Confidence (Crime, Action -> Thriller): {confidence_CrAc_Th}\")\n",
    "confidence_Cr_AcTh = support_Cr_Ac_Th / movilens['Crime'].mean()\n",
    "print(f\"Confidence (Crime -> Action, Thriller): {confidence_Cr_AcTh}\")\n",
    "confidence_Cr_Ch = support_Cr_Ch / movilens['Crime'].mean()\n",
    "print(f\"Confidence (Crime -> Children): {confidence_Cr_Ch}\")\n",
    "\n",
    "# Lifts\n",
    "print(\"\\nLifts\")\n",
    "lift_Ro_Dr = confidence_Ro_Dr / movilens['Drama'].mean()\n",
    "print(f\"Lift (Romance -> Drama): {lift_Ro_Dr}\")\n",
    "lift_AcAd_Th = confidence_AcAd_Th / movilens['Thriller'].mean()\n",
    "print(f\"Lift (Action, Adventure -> Thriller): {lift_AcAd_Th}\")\n",
    "lift_CrAc_Th = confidence_CrAc_Th / movilens['Thriller'].mean()\n",
    "print(f\"Lift (Crime, Action -> Thriller): {lift_CrAc_Th}\")\n",
    "lift_Cr_AcTh = confidence_Cr_AcTh / np.logical_and(movilens['Action'], movilens['Thriller']).mean()\n",
    "print(f\"Lift (Crime -> Action, Thriller): {lift_Cr_AcTh}\")\n",
    "lift_Cr_Ch = confidence_Cr_Ch / movilens['Children'].mean()\n",
    "print(f\"Lift (Crime -> Children): {lift_Cr_Ch}\")"
   ]
  },
  {
   "cell_type": "code",
   "execution_count": 3,
   "metadata": {},
   "outputs": [],
   "source": [
    "def _get_support(itemset: list, onehot_dataset: pd.DataFrame) -> float:\n",
    "    logic_and_result = onehot_dataset[itemset[0]]\n",
    "    for item in itemset[1:]:\n",
    "        logic_and_result = np.logical_and(logic_and_result, onehot_dataset[item])\n",
    "    return logic_and_result.mean()"
   ]
  },
  {
   "cell_type": "code",
   "execution_count": 4,
   "metadata": {},
   "outputs": [],
   "source": [
    "def _rule_metrics(antedecent: list, consequent: list, onehot_dataset: pd.DataFrame) -> dict[str, float | str]:\n",
    "    itemset = antedecent + consequent\n",
    "    support = _get_support(itemset=itemset, onehot_dataset=onehot_dataset)\n",
    "    confidence = support / _get_support(itemset=antedecent, onehot_dataset=onehot_dataset)\n",
    "    lift = confidence / _get_support(itemset=consequent, onehot_dataset=onehot_dataset)\n",
    "    \n",
    "    metrics = {\n",
    "        'rule': f\"{antedecent} -> {consequent}\",\n",
    "        'support': support,\n",
    "        'confidence': confidence,\n",
    "        'lift': lift\n",
    "    }\n",
    "    return metrics"
   ]
  },
  {
   "cell_type": "code",
   "execution_count": 5,
   "metadata": {},
   "outputs": [],
   "source": [
    "def get_rules_metrics_df(rules: list[tuple[list[str], list[str]]], onehot_dataset: pd.DataFrame) -> pd.DataFrame:\n",
    "    rules_metrics = {\n",
    "        'rule': [],\n",
    "        'support': [],\n",
    "        'confidence': [],\n",
    "        'lift': []\n",
    "    }\n",
    "    for rule in rules:\n",
    "        rule_metric = _rule_metrics(rule[0], rule[1], onehot_dataset)\n",
    "        rules_metrics['rule'].append(rule_metric['rule'])\n",
    "        rules_metrics['support'].append(rule_metric['support'])\n",
    "        rules_metrics['confidence'].append(rule_metric['confidence'])\n",
    "        rules_metrics['lift'].append(rule_metric['lift'])\n",
    "    return pd.DataFrame(rules_metrics)"
   ]
  },
  {
   "cell_type": "code",
   "execution_count": 6,
   "metadata": {},
   "outputs": [],
   "source": [
    "def get_number_of_rules(n_itemset: int, n_subitemset: int) -> int:\n",
    "    result = 0\n",
    "    for n_ant in range(1, n_subitemset):\n",
    "        result += math.comb(n_itemset, n_subitemset)*math.comb(n_subitemset, n_ant)\n",
    "    return result\n",
    "\n",
    "def get_rules(itemset: Iterable[str], n_subitemset: int) -> list[tuple[list[str], list[str]]]:\n",
    "    rules = []\n",
    "    for subitemset in list(combinations(itemset, n_subitemset)):\n",
    "        for i in range(1, len(subitemset)):\n",
    "            for antecedent in combinations(subitemset, i):\n",
    "                remaining = set(subitemset) - set(antecedent)\n",
    "                rules.append((list(antecedent), list(remaining)))\n",
    "    return rules"
   ]
  },
  {
   "cell_type": "markdown",
   "metadata": {},
   "source": [
    "Calcular matemáticamente y de manera justificada cuantas reglas de tipo A -> B se pueden construir para este dataset."
   ]
  },
  {
   "cell_type": "code",
   "execution_count": 7,
   "metadata": {},
   "outputs": [
    {
     "name": "stdout",
     "output_type": "stream",
     "text": [
      "Number of rules for 2 itemset: 342\n"
     ]
    }
   ],
   "source": [
    "n_subitemset = 2\n",
    "print(f\"Number of rules for {n_subitemset} itemset: {get_number_of_rules(n_itemset=len(movilens.columns), n_subitemset=n_subitemset)}\")"
   ]
  },
  {
   "cell_type": "code",
   "execution_count": 8,
   "metadata": {},
   "outputs": [
    {
     "name": "stdout",
     "output_type": "stream",
     "text": [
      "Time elapsed: 0.00030112266540527344 segs. \n"
     ]
    },
    {
     "data": {
      "text/html": [
       "<div>\n",
       "<style scoped>\n",
       "    .dataframe tbody tr th:only-of-type {\n",
       "        vertical-align: middle;\n",
       "    }\n",
       "\n",
       "    .dataframe tbody tr th {\n",
       "        vertical-align: top;\n",
       "    }\n",
       "\n",
       "    .dataframe thead th {\n",
       "        text-align: right;\n",
       "    }\n",
       "</style>\n",
       "<table border=\"1\" class=\"dataframe\">\n",
       "  <thead>\n",
       "    <tr style=\"text-align: right;\">\n",
       "      <th></th>\n",
       "      <th>rule</th>\n",
       "      <th>support</th>\n",
       "      <th>confidence</th>\n",
       "      <th>lift</th>\n",
       "    </tr>\n",
       "  </thead>\n",
       "  <tbody>\n",
       "    <tr>\n",
       "      <th>136</th>\n",
       "      <td>['Comedy'] -&gt; ['Drama']</td>\n",
       "      <td>0.075536</td>\n",
       "      <td>0.262974</td>\n",
       "      <td>0.619479</td>\n",
       "    </tr>\n",
       "    <tr>\n",
       "      <th>137</th>\n",
       "      <td>['Drama'] -&gt; ['Comedy']</td>\n",
       "      <td>0.075536</td>\n",
       "      <td>0.177937</td>\n",
       "      <td>0.619479</td>\n",
       "    </tr>\n",
       "    <tr>\n",
       "      <th>223</th>\n",
       "      <td>['Romance'] -&gt; ['Drama']</td>\n",
       "      <td>0.073822</td>\n",
       "      <td>0.573151</td>\n",
       "      <td>1.350154</td>\n",
       "    </tr>\n",
       "    <tr>\n",
       "      <th>222</th>\n",
       "      <td>['Drama'] -&gt; ['Romance']</td>\n",
       "      <td>0.073822</td>\n",
       "      <td>0.173899</td>\n",
       "      <td>1.350154</td>\n",
       "    </tr>\n",
       "    <tr>\n",
       "      <th>151</th>\n",
       "      <td>['Romance'] -&gt; ['Comedy']</td>\n",
       "      <td>0.057164</td>\n",
       "      <td>0.443823</td>\n",
       "      <td>1.545146</td>\n",
       "    </tr>\n",
       "    <tr>\n",
       "      <th>150</th>\n",
       "      <td>['Comedy'] -&gt; ['Romance']</td>\n",
       "      <td>0.057164</td>\n",
       "      <td>0.199014</td>\n",
       "      <td>1.545146</td>\n",
       "    </tr>\n",
       "    <tr>\n",
       "      <th>227</th>\n",
       "      <td>['Thriller'] -&gt; ['Drama']</td>\n",
       "      <td>0.056705</td>\n",
       "      <td>0.386112</td>\n",
       "      <td>0.909552</td>\n",
       "    </tr>\n",
       "    <tr>\n",
       "      <th>226</th>\n",
       "      <td>['Drama'] -&gt; ['Thriller']</td>\n",
       "      <td>0.056705</td>\n",
       "      <td>0.133577</td>\n",
       "      <td>0.909552</td>\n",
       "    </tr>\n",
       "    <tr>\n",
       "      <th>162</th>\n",
       "      <td>['Crime'] -&gt; ['Drama']</td>\n",
       "      <td>0.046730</td>\n",
       "      <td>0.539278</td>\n",
       "      <td>1.270360</td>\n",
       "    </tr>\n",
       "    <tr>\n",
       "      <th>163</th>\n",
       "      <td>['Drama'] -&gt; ['Crime']</td>\n",
       "      <td>0.046730</td>\n",
       "      <td>0.110080</td>\n",
       "      <td>1.270360</td>\n",
       "    </tr>\n",
       "    <tr>\n",
       "      <th>280</th>\n",
       "      <td>['Horror'] -&gt; ['Thriller']</td>\n",
       "      <td>0.037786</td>\n",
       "      <td>0.351514</td>\n",
       "      <td>2.393522</td>\n",
       "    </tr>\n",
       "    <tr>\n",
       "      <th>281</th>\n",
       "      <td>['Thriller'] -&gt; ['Horror']</td>\n",
       "      <td>0.037786</td>\n",
       "      <td>0.257295</td>\n",
       "      <td>2.393522</td>\n",
       "    </tr>\n",
       "    <tr>\n",
       "      <th>12</th>\n",
       "      <td>['Action'] -&gt; ['Drama']</td>\n",
       "      <td>0.037538</td>\n",
       "      <td>0.312578</td>\n",
       "      <td>0.736329</td>\n",
       "    </tr>\n",
       "    <tr>\n",
       "      <th>13</th>\n",
       "      <td>['Drama'] -&gt; ['Action']</td>\n",
       "      <td>0.037538</td>\n",
       "      <td>0.088427</td>\n",
       "      <td>0.736329</td>\n",
       "    </tr>\n",
       "    <tr>\n",
       "      <th>30</th>\n",
       "      <td>['Action'] -&gt; ['Thriller']</td>\n",
       "      <td>0.035402</td>\n",
       "      <td>0.294787</td>\n",
       "      <td>2.007259</td>\n",
       "    </tr>\n",
       "    <tr>\n",
       "      <th>31</th>\n",
       "      <td>['Thriller'] -&gt; ['Action']</td>\n",
       "      <td>0.035402</td>\n",
       "      <td>0.241056</td>\n",
       "      <td>2.007259</td>\n",
       "    </tr>\n",
       "    <tr>\n",
       "      <th>180</th>\n",
       "      <td>['Crime'] -&gt; ['Thriller']</td>\n",
       "      <td>0.034122</td>\n",
       "      <td>0.393779</td>\n",
       "      <td>2.681312</td>\n",
       "    </tr>\n",
       "    <tr>\n",
       "      <th>181</th>\n",
       "      <td>['Thriller'] -&gt; ['Crime']</td>\n",
       "      <td>0.034122</td>\n",
       "      <td>0.232344</td>\n",
       "      <td>2.681312</td>\n",
       "    </tr>\n",
       "    <tr>\n",
       "      <th>1</th>\n",
       "      <td>['Adventure'] -&gt; ['Action']</td>\n",
       "      <td>0.026085</td>\n",
       "      <td>0.388745</td>\n",
       "      <td>3.237061</td>\n",
       "    </tr>\n",
       "    <tr>\n",
       "      <th>0</th>\n",
       "      <td>['Action'] -&gt; ['Adventure']</td>\n",
       "      <td>0.026085</td>\n",
       "      <td>0.217211</td>\n",
       "      <td>3.237061</td>\n",
       "    </tr>\n",
       "  </tbody>\n",
       "</table>\n",
       "</div>"
      ],
      "text/plain": [
       "                            rule   support  confidence      lift\n",
       "136      ['Comedy'] -> ['Drama']  0.075536    0.262974  0.619479\n",
       "137      ['Drama'] -> ['Comedy']  0.075536    0.177937  0.619479\n",
       "223     ['Romance'] -> ['Drama']  0.073822    0.573151  1.350154\n",
       "222     ['Drama'] -> ['Romance']  0.073822    0.173899  1.350154\n",
       "151    ['Romance'] -> ['Comedy']  0.057164    0.443823  1.545146\n",
       "150    ['Comedy'] -> ['Romance']  0.057164    0.199014  1.545146\n",
       "227    ['Thriller'] -> ['Drama']  0.056705    0.386112  0.909552\n",
       "226    ['Drama'] -> ['Thriller']  0.056705    0.133577  0.909552\n",
       "162       ['Crime'] -> ['Drama']  0.046730    0.539278  1.270360\n",
       "163       ['Drama'] -> ['Crime']  0.046730    0.110080  1.270360\n",
       "280   ['Horror'] -> ['Thriller']  0.037786    0.351514  2.393522\n",
       "281   ['Thriller'] -> ['Horror']  0.037786    0.257295  2.393522\n",
       "12       ['Action'] -> ['Drama']  0.037538    0.312578  0.736329\n",
       "13       ['Drama'] -> ['Action']  0.037538    0.088427  0.736329\n",
       "30    ['Action'] -> ['Thriller']  0.035402    0.294787  2.007259\n",
       "31    ['Thriller'] -> ['Action']  0.035402    0.241056  2.007259\n",
       "180    ['Crime'] -> ['Thriller']  0.034122    0.393779  2.681312\n",
       "181    ['Thriller'] -> ['Crime']  0.034122    0.232344  2.681312\n",
       "1    ['Adventure'] -> ['Action']  0.026085    0.388745  3.237061\n",
       "0    ['Action'] -> ['Adventure']  0.026085    0.217211  3.237061"
      ]
     },
     "execution_count": 8,
     "metadata": {},
     "output_type": "execute_result"
    }
   ],
   "source": [
    "start = time.time()\n",
    "rules = get_rules(movilens.columns, n_subitemset=2)\n",
    "end = time.time()\n",
    "rules_metrics_df = get_rules_metrics_df(rules, movilens)\n",
    "rules_metrics_df = rules_metrics_df.sort_values(by=['support', 'confidence', 'lift'], ascending=[False, False, False])\n",
    "\n",
    "print(f\"Time elapsed: {end - start} segs. \")\n",
    "rules_metrics_df.head(20)"
   ]
  },
  {
   "cell_type": "markdown",
   "metadata": {},
   "source": [
    "Calcular matemáticamente y de manera justificada cuantas reglas de tipo A,B -> C ó A -> B,C se pueden construir para este dataset."
   ]
  },
  {
   "cell_type": "code",
   "execution_count": 9,
   "metadata": {},
   "outputs": [
    {
     "name": "stdout",
     "output_type": "stream",
     "text": [
      "Number of rules for 3 itemset: 5814\n"
     ]
    }
   ],
   "source": [
    "n_subitemset = 3\n",
    "print(f\"Number of rules for {n_subitemset} itemset: {get_number_of_rules(n_itemset=len(movilens.columns), n_subitemset=n_subitemset)}\")"
   ]
  },
  {
   "cell_type": "code",
   "execution_count": 10,
   "metadata": {},
   "outputs": [
    {
     "name": "stderr",
     "output_type": "stream",
     "text": [
      "/var/folders/3f/6ggjjlbd55q4ryknfknwvqn80000gn/T/ipykernel_14276/646552843.py:5: RuntimeWarning: invalid value encountered in scalar divide\n",
      "  lift = confidence / _get_support(itemset=consequent, onehot_dataset=onehot_dataset)\n",
      "/var/folders/3f/6ggjjlbd55q4ryknfknwvqn80000gn/T/ipykernel_14276/646552843.py:4: RuntimeWarning: invalid value encountered in scalar divide\n",
      "  confidence = support / _get_support(itemset=antedecent, onehot_dataset=onehot_dataset)\n"
     ]
    },
    {
     "name": "stdout",
     "output_type": "stream",
     "text": [
      "Time elapsed: 0.01947784423828125 segs. \n"
     ]
    },
    {
     "data": {
      "text/html": [
       "<div>\n",
       "<style scoped>\n",
       "    .dataframe tbody tr th:only-of-type {\n",
       "        vertical-align: middle;\n",
       "    }\n",
       "\n",
       "    .dataframe tbody tr th {\n",
       "        vertical-align: top;\n",
       "    }\n",
       "\n",
       "    .dataframe thead th {\n",
       "        text-align: right;\n",
       "    }\n",
       "</style>\n",
       "<table border=\"1\" class=\"dataframe\">\n",
       "  <thead>\n",
       "    <tr style=\"text-align: right;\">\n",
       "      <th></th>\n",
       "      <th>rule</th>\n",
       "      <th>support</th>\n",
       "      <th>confidence</th>\n",
       "      <th>lift</th>\n",
       "    </tr>\n",
       "  </thead>\n",
       "  <tbody>\n",
       "    <tr>\n",
       "      <th>3274</th>\n",
       "      <td>['Comedy', 'Romance'] -&gt; ['Drama']</td>\n",
       "      <td>0.020073</td>\n",
       "      <td>0.351152</td>\n",
       "      <td>0.827197</td>\n",
       "    </tr>\n",
       "    <tr>\n",
       "      <th>3275</th>\n",
       "      <td>['Drama', 'Romance'] -&gt; ['Comedy']</td>\n",
       "      <td>0.020073</td>\n",
       "      <td>0.271917</td>\n",
       "      <td>0.946663</td>\n",
       "    </tr>\n",
       "    <tr>\n",
       "      <th>3273</th>\n",
       "      <td>['Comedy', 'Drama'] -&gt; ['Romance']</td>\n",
       "      <td>0.020073</td>\n",
       "      <td>0.265746</td>\n",
       "      <td>2.063252</td>\n",
       "    </tr>\n",
       "    <tr>\n",
       "      <th>3272</th>\n",
       "      <td>['Romance'] -&gt; ['Comedy', 'Drama']</td>\n",
       "      <td>0.020073</td>\n",
       "      <td>0.155849</td>\n",
       "      <td>2.063252</td>\n",
       "    </tr>\n",
       "    <tr>\n",
       "      <th>3270</th>\n",
       "      <td>['Comedy'] -&gt; ['Romance', 'Drama']</td>\n",
       "      <td>0.020073</td>\n",
       "      <td>0.069884</td>\n",
       "      <td>0.946663</td>\n",
       "    </tr>\n",
       "    <tr>\n",
       "      <th>3271</th>\n",
       "      <td>['Drama'] -&gt; ['Romance', 'Comedy']</td>\n",
       "      <td>0.020073</td>\n",
       "      <td>0.047286</td>\n",
       "      <td>0.827197</td>\n",
       "    </tr>\n",
       "    <tr>\n",
       "      <th>3754</th>\n",
       "      <td>['Crime', 'Thriller'] -&gt; ['Drama']</td>\n",
       "      <td>0.016819</td>\n",
       "      <td>0.492901</td>\n",
       "      <td>1.161113</td>\n",
       "    </tr>\n",
       "    <tr>\n",
       "      <th>3753</th>\n",
       "      <td>['Crime', 'Drama'] -&gt; ['Thriller']</td>\n",
       "      <td>0.016819</td>\n",
       "      <td>0.359915</td>\n",
       "      <td>2.450728</td>\n",
       "    </tr>\n",
       "    <tr>\n",
       "      <th>3755</th>\n",
       "      <td>['Drama', 'Thriller'] -&gt; ['Crime']</td>\n",
       "      <td>0.016819</td>\n",
       "      <td>0.296605</td>\n",
       "      <td>3.422900</td>\n",
       "    </tr>\n",
       "    <tr>\n",
       "      <th>3750</th>\n",
       "      <td>['Crime'] -&gt; ['Thriller', 'Drama']</td>\n",
       "      <td>0.016819</td>\n",
       "      <td>0.194094</td>\n",
       "      <td>3.422900</td>\n",
       "    </tr>\n",
       "    <tr>\n",
       "      <th>3752</th>\n",
       "      <td>['Thriller'] -&gt; ['Crime', 'Drama']</td>\n",
       "      <td>0.016819</td>\n",
       "      <td>0.114523</td>\n",
       "      <td>2.450728</td>\n",
       "    </tr>\n",
       "    <tr>\n",
       "      <th>3751</th>\n",
       "      <td>['Drama'] -&gt; ['Thriller', 'Crime']</td>\n",
       "      <td>0.016819</td>\n",
       "      <td>0.039620</td>\n",
       "      <td>1.161113</td>\n",
       "    </tr>\n",
       "    <tr>\n",
       "      <th>435</th>\n",
       "      <td>['Action', 'Crime'] -&gt; ['Thriller']</td>\n",
       "      <td>0.010471</td>\n",
       "      <td>0.459651</td>\n",
       "      <td>3.129849</td>\n",
       "    </tr>\n",
       "    <tr>\n",
       "      <th>437</th>\n",
       "      <td>['Crime', 'Thriller'] -&gt; ['Action']</td>\n",
       "      <td>0.010471</td>\n",
       "      <td>0.306880</td>\n",
       "      <td>2.555378</td>\n",
       "    </tr>\n",
       "    <tr>\n",
       "      <th>436</th>\n",
       "      <td>['Action', 'Thriller'] -&gt; ['Crime']</td>\n",
       "      <td>0.010471</td>\n",
       "      <td>0.295789</td>\n",
       "      <td>3.413494</td>\n",
       "    </tr>\n",
       "    <tr>\n",
       "      <th>433</th>\n",
       "      <td>['Crime'] -&gt; ['Thriller', 'Action']</td>\n",
       "      <td>0.010471</td>\n",
       "      <td>0.120843</td>\n",
       "      <td>3.413494</td>\n",
       "    </tr>\n",
       "    <tr>\n",
       "      <th>432</th>\n",
       "      <td>['Action'] -&gt; ['Thriller', 'Crime']</td>\n",
       "      <td>0.010471</td>\n",
       "      <td>0.087195</td>\n",
       "      <td>2.555378</td>\n",
       "    </tr>\n",
       "    <tr>\n",
       "      <th>434</th>\n",
       "      <td>['Thriller'] -&gt; ['Action', 'Crime']</td>\n",
       "      <td>0.010471</td>\n",
       "      <td>0.071302</td>\n",
       "      <td>3.129849</td>\n",
       "    </tr>\n",
       "    <tr>\n",
       "      <th>574</th>\n",
       "      <td>['Action', 'Thriller'] -&gt; ['Drama']</td>\n",
       "      <td>0.010347</td>\n",
       "      <td>0.292281</td>\n",
       "      <td>0.688517</td>\n",
       "    </tr>\n",
       "    <tr>\n",
       "      <th>573</th>\n",
       "      <td>['Action', 'Drama'] -&gt; ['Thriller']</td>\n",
       "      <td>0.010347</td>\n",
       "      <td>0.275645</td>\n",
       "      <td>1.876920</td>\n",
       "    </tr>\n",
       "  </tbody>\n",
       "</table>\n",
       "</div>"
      ],
      "text/plain": [
       "                                     rule   support  confidence      lift\n",
       "3274   ['Comedy', 'Romance'] -> ['Drama']  0.020073    0.351152  0.827197\n",
       "3275   ['Drama', 'Romance'] -> ['Comedy']  0.020073    0.271917  0.946663\n",
       "3273   ['Comedy', 'Drama'] -> ['Romance']  0.020073    0.265746  2.063252\n",
       "3272   ['Romance'] -> ['Comedy', 'Drama']  0.020073    0.155849  2.063252\n",
       "3270   ['Comedy'] -> ['Romance', 'Drama']  0.020073    0.069884  0.946663\n",
       "3271   ['Drama'] -> ['Romance', 'Comedy']  0.020073    0.047286  0.827197\n",
       "3754   ['Crime', 'Thriller'] -> ['Drama']  0.016819    0.492901  1.161113\n",
       "3753   ['Crime', 'Drama'] -> ['Thriller']  0.016819    0.359915  2.450728\n",
       "3755   ['Drama', 'Thriller'] -> ['Crime']  0.016819    0.296605  3.422900\n",
       "3750   ['Crime'] -> ['Thriller', 'Drama']  0.016819    0.194094  3.422900\n",
       "3752   ['Thriller'] -> ['Crime', 'Drama']  0.016819    0.114523  2.450728\n",
       "3751   ['Drama'] -> ['Thriller', 'Crime']  0.016819    0.039620  1.161113\n",
       "435   ['Action', 'Crime'] -> ['Thriller']  0.010471    0.459651  3.129849\n",
       "437   ['Crime', 'Thriller'] -> ['Action']  0.010471    0.306880  2.555378\n",
       "436   ['Action', 'Thriller'] -> ['Crime']  0.010471    0.295789  3.413494\n",
       "433   ['Crime'] -> ['Thriller', 'Action']  0.010471    0.120843  3.413494\n",
       "432   ['Action'] -> ['Thriller', 'Crime']  0.010471    0.087195  2.555378\n",
       "434   ['Thriller'] -> ['Action', 'Crime']  0.010471    0.071302  3.129849\n",
       "574   ['Action', 'Thriller'] -> ['Drama']  0.010347    0.292281  0.688517\n",
       "573   ['Action', 'Drama'] -> ['Thriller']  0.010347    0.275645  1.876920"
      ]
     },
     "execution_count": 10,
     "metadata": {},
     "output_type": "execute_result"
    }
   ],
   "source": [
    "start = time.time()\n",
    "rules = get_rules(movilens.columns, n_subitemset=3)\n",
    "end = time.time()\n",
    "rules_metrics_df = get_rules_metrics_df(rules, movilens)\n",
    "rules_metrics_df = rules_metrics_df.sort_values(by=['support', 'confidence', 'lift'], ascending=[False, False, False])\n",
    "\n",
    "print(f\"Time elapsed: {end - start} segs. \")\n",
    "rules_metrics_df.head(20)"
   ]
  },
  {
   "cell_type": "markdown",
   "metadata": {},
   "source": [
    "Calcular matemáticamente y de manera justificada cuantas reglas de 9 elementos se pueden construir para este dataset."
   ]
  },
  {
   "cell_type": "code",
   "execution_count": 11,
   "metadata": {},
   "outputs": [
    {
     "name": "stdout",
     "output_type": "stream",
     "text": [
      "Number of rules for 9 itemset: 47112780\n"
     ]
    }
   ],
   "source": [
    "n_subitemset = 9\n",
    "print(f\"Number of rules for {n_subitemset} itemset: {get_number_of_rules(n_itemset=len(movilens.columns), n_subitemset=n_subitemset)}\")"
   ]
  },
  {
   "cell_type": "code",
   "execution_count": 12,
   "metadata": {},
   "outputs": [
    {
     "name": "stdout",
     "output_type": "stream",
     "text": [
      "Time elapsed: 243.00370693206787 segs. \n"
     ]
    }
   ],
   "source": [
    "start = time.time()\n",
    "rules = get_rules(movilens.columns, n_subitemset=9)\n",
    "end = time.time()\n",
    "print(f\"Time elapsed: {end - start} segs. \")"
   ]
  },
  {
   "cell_type": "markdown",
   "metadata": {},
   "source": [
    "Calcular matemáticamente y de manera justificada cuantas reglas de todo tipo que contengan desde 1 hasta 19 elementos (todas las reglas posibles) se pueden construir para este dataset. Siguiendo el enfoque anterior ¿cuánto tiempo tardaría vuestro código en generarlas?"
   ]
  },
  {
   "cell_type": "code",
   "execution_count": 16,
   "metadata": {},
   "outputs": [
    {
     "name": "stdout",
     "output_type": "stream",
     "text": [
      "Number of rules for 19 itemset: 524286\n"
     ]
    }
   ],
   "source": [
    "n_subitemset = len(movilens.columns)\n",
    "print(f\"Number of rules for {n_subitemset} itemset: {get_number_of_rules(n_itemset=len(movilens.columns), n_subitemset=n_subitemset)}\")"
   ]
  },
  {
   "cell_type": "code",
   "execution_count": 17,
   "metadata": {},
   "outputs": [
    {
     "name": "stdout",
     "output_type": "stream",
     "text": [
      "Time elapsed: 0.9390888214111328 segs. \n"
     ]
    }
   ],
   "source": [
    "start = time.time()\n",
    "rules = get_rules(movilens.columns, n_subitemset=len(movilens.columns))\n",
    "end = time.time()\n",
    "print(f\"Time elapsed: {end - start} segs. \")"
   ]
  }
 ],
 "metadata": {
  "kernelspec": {
   "display_name": "DataMining",
   "language": "python",
   "name": "python3"
  },
  "language_info": {
   "codemirror_mode": {
    "name": "ipython",
    "version": 3
   },
   "file_extension": ".py",
   "mimetype": "text/x-python",
   "name": "python",
   "nbconvert_exporter": "python",
   "pygments_lexer": "ipython3",
   "version": "3.12.7"
  }
 },
 "nbformat": 4,
 "nbformat_minor": 2
}
